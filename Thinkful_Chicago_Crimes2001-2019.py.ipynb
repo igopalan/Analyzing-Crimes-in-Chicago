{
 "cells": [
  {
   "cell_type": "markdown",
   "metadata": {},
   "source": [
    "# Analysis of Reported Crimes in Chicago from 2003 to 2018\n",
    "\n",
    "#### Ilango Gopalan, December 2019"
   ]
  },
  {
   "cell_type": "markdown",
   "metadata": {},
   "source": [
    "## Introduction\n",
    "\n",
    "Chicago has frequently made the news for its high murder rate and gun violence, including being admonished by the Trump Administration in 2017.  However, overall crime and homicides decreased year over year, making the city safer today despite what various news sources report. \n",
    "\n",
    "This project analyzes reported crimes across Chicago, from 2003 through 2018.  The readers of this report will be able to understand the following upon completion:\n",
    "\n",
    "### 1. Is Chicago safer today in their respective neighborhood\n",
    "### 2. Learn where the majority of crimes (both violent and non-violent) occur, by neighborhood\n",
    "### 3. Has gun violence increased or decreased\n",
    "### 4. Where gun violence or homicides may occur \n",
    "### 5. What factors such as location, date, even 'Arrest' would contribute to a crime being gun related?  \n",
    "### 6. Also, what factors such as location and crime result in an arrest?  "
   ]
  },
  {
   "cell_type": "markdown",
   "metadata": {},
   "source": [
    "## Dataset\n",
    "\n",
    "I acquired this dataset from Chicago Data Portal: \n",
    "\n",
    "**https://data.cityofchicago.org/Public-Safety/Crimes-2001-to-present-Dashboard/5cd6-ry5g**\n",
    "\n",
    "There are 22 features (mostly of a categorical nature) with 5.7 million records, each one representing a single reported crime from 2003 through 2018.  \n",
    "\n",
    "### Brief Description of some of the variables:\n",
    "\n",
    "* ID / Case Number - unique identifiers of the reported instance of crime\n",
    "\n",
    "* Date / Year - two different date features representing when the incident occurred (best estimate)\n",
    "\n",
    "* Block - Address with just the first 3 digits (rest redacted), and a direction along with street; Chicago operates on a grid system, therefore all streets have one of the following - N, S, E, W\n",
    "\n",
    "* IUCR / FBI Code - Illinois Uniform Crime Reporting Codes and FBI Codes for categories of crime\n",
    "\n",
    "* Primary Type / Description - categorical values of the incident.Example: **Homicide** to Primary Type, and **Handgun** to Description\n",
    "\n",
    "* Location Description - Residence, Apartment, Street...\n",
    "\n",
    "* Arrest - Binary of Yes/No\n",
    "\n",
    "* Beat / District - Police Beat and one of the 25 Districts within Chicago\n",
    "\n",
    "* Ward / Community Area - Chicago has 50 Wards and 77 Community Areas\n",
    "\n",
    "* X / Y Coordinates / Latitude / Longitude - All Location variables\n",
    "\n"
   ]
  },
  {
   "cell_type": "code",
   "execution_count": 1,
   "metadata": {},
   "outputs": [],
   "source": [
    "import pandas as pd\n",
    "import numpy as np\n",
    "import matplotlib.pyplot as plt\n",
    "\n",
    "import seaborn as sns\n",
    "import scipy.stats as stats\n",
    "import datetime\n",
    "import time\n",
    "import pyarrow\n",
    "from sklearn import preprocessing\n",
    "from sklearn.cluster import KMeans\n",
    "from sklearn.preprocessing import normalize\n",
    "from sklearn.decomposition import PCA\n",
    "from sklearn.cluster import MiniBatchKMeans\n",
    "from sklearn.datasets.samples_generator import make_blobs\n",
    "from sklearn.model_selection import train_test_split\n",
    "from sklearn.cluster import MeanShift, estimate_bandwidth\n",
    "from sklearn.cluster import SpectralClustering\n",
    "from sklearn.cluster import AffinityPropagation\n",
    "from sklearn import metrics\n",
    "from itertools import cycle\n",
    "from sklearn.preprocessing import MinMaxScaler\n",
    "%matplotlib inline\n",
    "pd.set_option('display.max_columns', 50)"
   ]
  },
  {
   "cell_type": "code",
   "execution_count": 2,
   "metadata": {},
   "outputs": [
    {
     "name": "stderr",
     "output_type": "stream",
     "text": [
      "C:\\Users\\ilang\\Anaconda3\\lib\\site-packages\\IPython\\core\\interactiveshell.py:3020: DtypeWarning: Columns (21) have mixed types. Specify dtype option on import or set low_memory=False.\n",
      "  interactivity=interactivity, compiler=compiler, result=result)\n"
     ]
    }
   ],
   "source": [
    "crimes = pd.read_csv(('Crimes_-_2001_to_present.csv.xz'))"
   ]
  },
  {
   "cell_type": "markdown",
   "metadata": {},
   "source": [
    "## Data Cleaning\n",
    "\n",
    "The dataset does not have complete information for years **2001, 2002, and 2019**, and I will remove records from those periods.  \n",
    "Other features cannot be converted until the **NaN and Null** values have been removed.  As shown below, there are only 2 features with NaN values comprising over 1% of the entire dataset - **Ward** and **Community Area**.  Since Ward and Community Area NaN values are still less than 10% of the entire dataset, AND are **categorical values**,  I am choosing to drop those records."
   ]
  },
  {
   "cell_type": "markdown",
   "metadata": {},
   "source": [
    "### Features that will be converted OR dropped:\n",
    "\n",
    "1. ID / Case Number / IUCR / Beat / FBI Code /Block / Domestic / X Coordinate / Y Coordinate / Updated On / Location - **DROPPED**\n",
    "2. Date - from string to **datetime**\n",
    "3. District / Ward / Community Area - from float to **integer**\n"
   ]
  },
  {
   "cell_type": "code",
   "execution_count": 3,
   "metadata": {},
   "outputs": [
    {
     "name": "stdout",
     "output_type": "stream",
     "text": [
      "<class 'pandas.core.frame.DataFrame'>\n",
      "RangeIndex: 7032560 entries, 0 to 7032559\n",
      "Data columns (total 22 columns):\n",
      "ID                      int64\n",
      "Case Number             object\n",
      "Date                    object\n",
      "Block                   object\n",
      "IUCR                    object\n",
      "Primary Type            object\n",
      "Description             object\n",
      "Location Description    object\n",
      "Arrest                  bool\n",
      "Domestic                bool\n",
      "Beat                    int64\n",
      "District                float64\n",
      "Ward                    float64\n",
      "Community Area          float64\n",
      "FBI Code                object\n",
      "X Coordinate            float64\n",
      "Y Coordinate            float64\n",
      "Year                    int64\n",
      "Updated On              object\n",
      "Latitude                float64\n",
      "Longitude               float64\n",
      "Location                object\n",
      "dtypes: bool(2), float64(7), int64(3), object(10)\n",
      "memory usage: 1.1+ GB\n"
     ]
    }
   ],
   "source": [
    "crimes.info()"
   ]
  },
  {
   "cell_type": "markdown",
   "metadata": {},
   "source": [
    "## Feature Conversion"
   ]
  },
  {
   "cell_type": "markdown",
   "metadata": {},
   "source": [
    "### Date Modification\n",
    "\n",
    "Currently, 'Date' is a string.  I will split 'Date' into\n",
    "1. month, day, year\n",
    "2. Time \n",
    "\n",
    "\n",
    "Then I will convert time to **military 24 hour format** "
   ]
  },
  {
   "cell_type": "code",
   "execution_count": 6,
   "metadata": {},
   "outputs": [
    {
     "name": "stdout",
     "output_type": "stream",
     "text": [
      "['01/01/2001', '11:00:00', 'AM']\n"
     ]
    }
   ],
   "source": [
    "print(crimes.Date[0].split()) #Separating the string into date, time, AM/PM"
   ]
  },
  {
   "cell_type": "code",
   "execution_count": 7,
   "metadata": {},
   "outputs": [],
   "source": [
    "#Creating 3 new columns for crime event as date, time, and AM/PM\n",
    "crimes['Crime_dates'] = crimes.Date.apply(lambda x: x.split()[0])\n",
    "crimes['Crime_time'] = crimes.Date.apply(lambda x: x.split()[1:3])\n",
    "#crimes['Crime_AM_PM'] = crimes.Date.apply(lambda x: x.split()[2])"
   ]
  },
  {
   "cell_type": "code",
   "execution_count": 8,
   "metadata": {},
   "outputs": [
    {
     "data": {
      "text/plain": [
       "'11:00:00'"
      ]
     },
     "execution_count": 8,
     "metadata": {},
     "output_type": "execute_result"
    }
   ],
   "source": [
    "crimes.Crime_time[0][-2]"
   ]
  },
  {
   "cell_type": "code",
   "execution_count": 9,
   "metadata": {},
   "outputs": [
    {
     "data": {
      "text/plain": [
       "['AM']"
      ]
     },
     "execution_count": 9,
     "metadata": {},
     "output_type": "execute_result"
    }
   ],
   "source": [
    "crimes.Crime_time[0][-1:]   #-1 will give me AM or PM"
   ]
  },
  {
   "cell_type": "code",
   "execution_count": 10,
   "metadata": {},
   "outputs": [
    {
     "data": {
      "text/plain": [
       "'11'"
      ]
     },
     "execution_count": 10,
     "metadata": {},
     "output_type": "execute_result"
    }
   ],
   "source": [
    "crimes.Crime_time[0][0][0:2] #[0][0:2] will give me first 2 digits aka hours"
   ]
  },
  {
   "cell_type": "code",
   "execution_count": 11,
   "metadata": {},
   "outputs": [
    {
     "data": {
      "text/plain": [
       "11"
      ]
     },
     "execution_count": 11,
     "metadata": {},
     "output_type": "execute_result"
    }
   ],
   "source": [
    "int(crimes.Crime_time[0][0][:2] )"
   ]
  },
  {
   "cell_type": "code",
   "execution_count": 12,
   "metadata": {},
   "outputs": [],
   "source": [
    "def convert24(str1): \n",
    "      \n",
    "    # Checking if last two elements of time \n",
    "    # is AM and first two elements are 12 \n",
    "    if str1[0][-1:] == \"AM\" and str1[0][:2] == \"12\": \n",
    "        return \"00\" +str1[0][:2]\n",
    "          \n",
    "    # remove the AM     \n",
    "    elif str1[0][-1:] == \"AM\": \n",
    "        return str1[0][:2] \n",
    "      \n",
    "    # Checking if last two elements of time \n",
    "    # is PM and first two elements are 12    \n",
    "    elif str1[0][-1:] == \"PM\" and str1[0][:2] == \"12\": \n",
    "        return str1[0][:-1] \n",
    "          \n",
    "    else: \n",
    "          \n",
    "        # add 12 to hours and remove PM \n",
    "        return int(str1[0][:2]) + 12 "
   ]
  },
  {
   "cell_type": "code",
   "execution_count": 13,
   "metadata": {},
   "outputs": [],
   "source": [
    "crimes['Crime_time'] = crimes['Crime_time'].apply(convert24)"
   ]
  },
  {
   "cell_type": "code",
   "execution_count": 14,
   "metadata": {},
   "outputs": [
    {
     "data": {
      "text/plain": [
       "24"
      ]
     },
     "execution_count": 14,
     "metadata": {},
     "output_type": "execute_result"
    }
   ],
   "source": [
    "crimes.Crime_time.max()"
   ]
  },
  {
   "cell_type": "code",
   "execution_count": 15,
   "metadata": {},
   "outputs": [],
   "source": [
    "#just separate the hours from the minuts and round the minutes each to the nearest 30. \n",
    "#Then convert the hours along to mil time and lose the AM/PM all together."
   ]
  },
  {
   "cell_type": "code",
   "execution_count": 16,
   "metadata": {},
   "outputs": [
    {
     "data": {
      "text/plain": [
       "19"
      ]
     },
     "execution_count": 16,
     "metadata": {},
     "output_type": "execute_result"
    }
   ],
   "source": [
    "crimes.Crime_time[100]"
   ]
  },
  {
   "cell_type": "code",
   "execution_count": 17,
   "metadata": {},
   "outputs": [
    {
     "data": {
      "text/plain": [
       "ID                      0.000000\n",
       "Case Number             0.000057\n",
       "Date                    0.000000\n",
       "Block                   0.000000\n",
       "IUCR                    0.000000\n",
       "Primary Type            0.000000\n",
       "Description             0.000000\n",
       "Location Description    0.085175\n",
       "Arrest                  0.000000\n",
       "Domestic                0.000000\n",
       "Beat                    0.000000\n",
       "District                0.000668\n",
       "Ward                    8.742620\n",
       "Community Area          8.723651\n",
       "FBI Code                0.000000\n",
       "X Coordinate            0.955925\n",
       "Y Coordinate            0.955925\n",
       "Year                    0.000000\n",
       "Updated On              0.000000\n",
       "Latitude                0.955925\n",
       "Longitude               0.955925\n",
       "Location                0.955925\n",
       "Crime_dates             0.000000\n",
       "Crime_time              0.000000\n",
       "dtype: float64"
      ]
     },
     "execution_count": 17,
     "metadata": {},
     "output_type": "execute_result"
    }
   ],
   "source": [
    "crimes.isnull().sum()*100/crimes.isnull().count()"
   ]
  },
  {
   "cell_type": "code",
   "execution_count": 18,
   "metadata": {},
   "outputs": [],
   "source": [
    "crimes = crimes[crimes.Year != 2001]\n",
    "crimes = crimes[crimes.Year != 2002]\n",
    "crimes = crimes[crimes.Year != 2019]\n"
   ]
  },
  {
   "cell_type": "code",
   "execution_count": 19,
   "metadata": {},
   "outputs": [],
   "source": [
    "crimes = crimes[['Crime_dates', 'Crime_time', 'Primary Type', 'Description', \n",
    "                 'Arrest', 'District', 'Ward', 'Community Area', 'Year', 'Latitude', 'Longitude', 'Location']]"
   ]
  },
  {
   "cell_type": "code",
   "execution_count": 20,
   "metadata": {},
   "outputs": [
    {
     "data": {
      "text/plain": [
       "array([2017, 2013, 2015, 2012, 2014, 2006, 2011, 2007, 2010, 2008, 2016,\n",
       "       2003, 2018, 2009, 2005, 2004], dtype=int64)"
      ]
     },
     "execution_count": 20,
     "metadata": {},
     "output_type": "execute_result"
    }
   ],
   "source": [
    "crimes.Year.unique()"
   ]
  },
  {
   "cell_type": "code",
   "execution_count": 21,
   "metadata": {},
   "outputs": [],
   "source": [
    "crimes = crimes.dropna()"
   ]
  },
  {
   "cell_type": "code",
   "execution_count": 22,
   "metadata": {},
   "outputs": [
    {
     "data": {
      "text/plain": [
       "Crime_dates       0\n",
       "Crime_time        0\n",
       "Primary Type      0\n",
       "Description       0\n",
       "Arrest            0\n",
       "District          0\n",
       "Ward              0\n",
       "Community Area    0\n",
       "Year              0\n",
       "Latitude          0\n",
       "Longitude         0\n",
       "Location          0\n",
       "dtype: int64"
      ]
     },
     "execution_count": 22,
     "metadata": {},
     "output_type": "execute_result"
    }
   ],
   "source": [
    "crimes.isnull().sum() #There are zero null or NaN values, and now specific features can be modified"
   ]
  },
  {
   "cell_type": "markdown",
   "metadata": {},
   "source": [
    "### District / Ward / Community Area - from float to integer"
   ]
  },
  {
   "cell_type": "code",
   "execution_count": 23,
   "metadata": {},
   "outputs": [],
   "source": [
    "crimes.District = crimes.District.astype(int)\n",
    "crimes.Ward = crimes.Ward.astype(int)\n",
    "crimes['Community Area'] = crimes['Community Area'].astype(int)"
   ]
  },
  {
   "cell_type": "code",
   "execution_count": 24,
   "metadata": {},
   "outputs": [
    {
     "name": "stdout",
     "output_type": "stream",
     "text": [
      "<class 'pandas.core.frame.DataFrame'>\n",
      "Int64Index: 5765494 entries, 64183 to 7032553\n",
      "Data columns (total 12 columns):\n",
      "Crime_dates       object\n",
      "Crime_time        int64\n",
      "Primary Type      object\n",
      "Description       object\n",
      "Arrest            bool\n",
      "District          int32\n",
      "Ward              int32\n",
      "Community Area    int32\n",
      "Year              int64\n",
      "Latitude          float64\n",
      "Longitude         float64\n",
      "Location          object\n",
      "dtypes: bool(1), float64(2), int32(3), int64(2), object(4)\n",
      "memory usage: 467.4+ MB\n"
     ]
    }
   ],
   "source": [
    "crimes.info()"
   ]
  },
  {
   "cell_type": "markdown",
   "metadata": {},
   "source": [
    "## Data Exploration\n",
    "\n",
    "### I want to display bar charts to compare total arrests vs. no arrests\n",
    "\n",
    "### Groupby Year by the highest frequency of crimes, so Year by Theft; Year by Battery; then Year by Handgun\n",
    "\n",
    "### Histogram \n",
    "\n",
    "### Scatter Plot of Latitude and Longitude"
   ]
  },
  {
   "cell_type": "code",
   "execution_count": 25,
   "metadata": {},
   "outputs": [
    {
     "data": {
      "text/plain": [
       "<matplotlib.axes._subplots.AxesSubplot at 0x21181f8ec50>"
      ]
     },
     "execution_count": 25,
     "metadata": {},
     "output_type": "execute_result"
    },
    {
     "data": {
      "image/png": "[encoded data removed]",
      "text/plain": [
       "<Figure size 432x288 with 1 Axes>"
      ]
     },
     "metadata": {
      "needs_background": "light"
     },
     "output_type": "display_data"
    }
   ],
   "source": [
    "crimes.Arrest.value_counts().plot.bar()  #Total arrests vs. no arrests.  \n",
    "#This could explain why people feel that Chicago is crime-ridden especially if crimes appear unsolved"
   ]
  },
  {
   "cell_type": "code",
   "execution_count": 26,
   "metadata": {},
   "outputs": [
    {
     "data": {
      "text/plain": [
       "numpy.int64"
      ]
     },
     "execution_count": 26,
     "metadata": {},
     "output_type": "execute_result"
    }
   ],
   "source": [
    "type(crimes.Year.iloc[0])"
   ]
  },
  {
   "cell_type": "code",
   "execution_count": 27,
   "metadata": {},
   "outputs": [
    {
     "data": {
      "text/plain": [
       "Text(0, 0.5, 'Total Crimes')"
      ]
     },
     "execution_count": 27,
     "metadata": {},
     "output_type": "execute_result"
    },
    {
     "data": {
      "image/png": "[encoded data removed]",
      "text/plain": [
       "<Figure size 432x288 with 1 Axes>"
      ]
     },
     "metadata": {
      "needs_background": "light"
     },
     "output_type": "display_data"
    }
   ],
   "source": [
    "crimes.Year.value_counts(sort=False).plot.bar(title = 'Crime trend 2003-2018')\n",
    "plt.xlabel('Year')\n",
    "plt.ylabel('Total Crimes')"
   ]
  },
  {
   "cell_type": "code",
   "execution_count": 28,
   "metadata": {},
   "outputs": [
    {
     "data": {
      "text/plain": [
       "array(['ROBBERY', 'OFFENSE INVOLVING CHILDREN', 'CRIM SEXUAL ASSAULT',\n",
       "       'SEX OFFENSE', 'OTHER OFFENSE', 'BATTERY', 'ASSAULT',\n",
       "       'HUMAN TRAFFICKING', 'DECEPTIVE PRACTICE', 'BURGLARY',\n",
       "       'WEAPONS VIOLATION', 'CRIMINAL TRESPASS', 'CRIMINAL DAMAGE',\n",
       "       'PUBLIC PEACE VIOLATION', 'THEFT', 'INTIMIDATION', 'ARSON',\n",
       "       'HOMICIDE', 'OBSCENITY', 'MOTOR VEHICLE THEFT', 'KIDNAPPING',\n",
       "       'STALKING', 'INTERFERENCE WITH PUBLIC OFFICER', 'NARCOTICS',\n",
       "       'GAMBLING', 'CONCEALED CARRY LICENSE VIOLATION', 'PROSTITUTION',\n",
       "       'LIQUOR LAW VIOLATION', 'PUBLIC INDECENCY',\n",
       "       'OTHER NARCOTIC VIOLATION', 'NON - CRIMINAL', 'NON-CRIMINAL',\n",
       "       'NON-CRIMINAL (SUBJECT SPECIFIED)', 'RITUALISM'], dtype=object)"
      ]
     },
     "execution_count": 28,
     "metadata": {},
     "output_type": "execute_result"
    }
   ],
   "source": [
    "crimes['Primary Type'].unique()"
   ]
  },
  {
   "cell_type": "code",
   "execution_count": 29,
   "metadata": {},
   "outputs": [
    {
     "data": {
      "text/plain": [
       "array(['STRONGARM - NO WEAPON', 'CRIM SEX ABUSE BY FAM MEMBER',\n",
       "       'PREDATORY', 'AGG CRIM SEX ABUSE FAM MEMBER',\n",
       "       'SEX ASSLT OF CHILD BY FAM MBR', 'AGG SEX ASSLT OF CHILD FAM MBR',\n",
       "       'ATT AGG CRIMINAL SEXUAL ABUSE', 'HARASSMENT BY ELECTRONIC MEANS',\n",
       "       'NON-AGGRAVATED', 'SIMPLE', 'AGGRAVATED: HANDGUN',\n",
       "       'AGG PRO.EMP: HANDGUN', 'AGGRAVATED:KNIFE/CUTTING INSTR',\n",
       "       'COMMERCIAL SEX ACTS', 'AGG CRIMINAL SEXUAL ABUSE',\n",
       "       'SEX OFFENDER: FAIL REG NEW ADD', 'AGGRAVATED: OTHER',\n",
       "       'HARBOR RUNAWAY', 'CREDIT CARD FRAUD',\n",
       "       'VIOLATE ORDER OF PROTECTION', 'PRO EMP HANDS NO/MIN INJURY',\n",
       "       'AGGRAVATED PO: OTHER DANG WEAP', 'FORCIBLE ENTRY',\n",
       "       'TELEPHONE THREAT',\n",
       "       'AGGRAVATED DOMESTIC BATTERY: KNIFE/CUTTING INST',\n",
       "       'UNLAWFUL POSS OF HANDGUN', 'RECKLESS FIREARM DISCHARGE',\n",
       "       'ARMED: HANDGUN', 'DOMESTIC BATTERY SIMPLE',\n",
       "       'AGG: HANDS/FIST/FEET SERIOUS INJURY', 'AGGRAVATED PO: HANDGUN',\n",
       "       'TO VEHICLE', 'TO PROPERTY', 'ARSON THREAT',\n",
       "       'COUNTERFEITING DOCUMENT', 'COUNTERFEIT CHECK',\n",
       "       'AGGRAVATED DOMESTIC BATTERY: OTHER DANG WEAPON',\n",
       "       'AGGRAVATED DOMESTIC BATTERY: HANDS/FIST/FEET SERIOUS INJURY',\n",
       "       'OVER $500', 'EXTORTION', 'AGG PO HANDS NO/MIN INJURY',\n",
       "       'RECKLESS CONDUCT', 'BY FIRE', 'FROM BUILDING', '$500 AND UNDER',\n",
       "       'FIRST DEGREE MURDER', 'INDECENT SOLICITATION/CHILD',\n",
       "       'CHILD PORNOGRAPHY', 'ATTEMPT: ARMED-HANDGUN',\n",
       "       'SEX OFFENDER: FAIL TO REGISTER', 'ATTEMPT NON-AGGRAVATED',\n",
       "       'SALE/DIST OBSCENE MAT TO MINOR', 'AGGRAVATED VEHICULAR HIJACKING',\n",
       "       'UNLAWFUL ENTRY', 'THEFT/RECOVERY: AUTOMOBILE',\n",
       "       'TO CITY OF CHICAGO PROPERTY', 'AGGRAVATED: KNIFE/CUT INSTR',\n",
       "       'VEHICULAR HIJACKING', 'CHILD ABDUCTION/STRANGER',\n",
       "       'SEXUAL EXPLOITATION OF A CHILD', 'CHILD ABUSE',\n",
       "       'AGGRAVATED: OTHER DANG WEAPON', 'IMPERSONATION', 'FORGERY',\n",
       "       'BOMB THREAT', 'ATT CRIM SEXUAL ABUSE', 'CRIMINAL SEXUAL ABUSE',\n",
       "       'VIOLATION OF CIVIL NO CONTACT ORDER', 'ATTEMPT ARSON',\n",
       "       'ARMED:KNIFE/CUTTING INSTRUMENT', 'UNLAWFUL USE HANDGUN',\n",
       "       'AGGRAVATED', 'FINANCIAL IDENTITY THEFT OVER $ 300', 'AUTOMOBILE',\n",
       "       'BOGUS CHECK', 'ENDANGERING LIFE/HEALTH CHILD',\n",
       "       'ATTEMPT FORCIBLE ENTRY', 'AGG PRO.EMP: OTHER DANG WEAPON',\n",
       "       'BRIBERY', 'OBSCENE MATTER', 'RETAIL THEFT', 'OTHER',\n",
       "       'HOME INVASION', 'AGG: FINANCIAL ID THEFT', 'POCKET-PICKING',\n",
       "       'POSS: CRACK', 'TO LAND', 'POSS: COCAINE', 'OTHER VEHICLE OFFENSE',\n",
       "       'CYCLE, SCOOTER, BIKE W-VIN', 'FRAUD OR CONFIDENCE GAME',\n",
       "       'NON-CONSENSUAL DISSEMINATION PRIVATE SEXUAL IMAGES', 'GAME/DICE',\n",
       "       'AGGRAVATED OF A SENIOR CITIZEN',\n",
       "       'AGG: HANDS/FIST/FEET NO/MINOR INJURY',\n",
       "       'ATTEMPT AGG: KNIFE/CUT INSTR', 'TRUCK, BUS, MOTOR HOME',\n",
       "       'ATT: AUTOMOBILE', 'POS: PORNOGRAPHIC PRINT', 'ATTEMPT AGG: OTHER',\n",
       "       'PUBLIC INDECENCY', 'POSS: PCP', 'POSS: CANNABIS 30GMS OR LESS',\n",
       "       'CHILD ABDUCTION', 'ARMED: OTHER DANGEROUS WEAPON',\n",
       "       'OTHER OFFENSE', 'FINANCIAL IDENTITY THEFT $300 AND UNDER',\n",
       "       'ATTEMPT: AGGRAVATED', 'AGGRAVATED: OTHER FIREARM',\n",
       "       'AGGRAVATED PO: OTHER FIREARM', 'ATTEMPT THEFT',\n",
       "       'THEFT OF LOST/MISLAID PROP', 'ATTEMPT AGG: HANDGUN',\n",
       "       'SEX RELATION IN FAMILY', 'FINAN EXPLOIT-ELDERLY/DISABLED',\n",
       "       'AGG PRO EMP HANDS SERIOUS INJ', 'AGGRAVATED OF A CHILD',\n",
       "       'PAY TV SERVICE OFFENSES', 'ARMED WHILE UNDER THE INFLUENCE',\n",
       "       'UNAUTHORIZED VIDEOTAPING', 'POSSESSION OF DRUG EQUIPMENT',\n",
       "       'AGGRAVATED DOMESTIC BATTERY: HANDGUN', 'FALSE/STOLEN/ALTERED TRP',\n",
       "       'RECKLESS HOMICIDE', 'TO STATE SUP LAND', 'EMBEZZLEMENT',\n",
       "       'CYBERSTALKING', 'ILLEGAL USE CASH CARD', 'PURSE-SNATCHING',\n",
       "       'THEFT OF LABOR/SERVICES', 'TO RESIDENCE',\n",
       "       'HARASSMENT BY TELEPHONE', 'POSS: BARBITUATES',\n",
       "       'MANU/DELIVER:CRACK', 'GAME/CARDS',\n",
       "       'POSS: CANNABIS MORE THAN 30GMS', 'FINANCIAL ID THEFT:$300 &UNDER',\n",
       "       'LICENSE VIOLATION', 'FORFEIT PROPERTY',\n",
       "       'OTHER CRIME INVOLVING PROPERTY', 'FINANCIAL ID THEFT: OVER $300',\n",
       "       'OBSCENE TELEPHONE CALLS', 'SOLICIT FOR BUSINESS',\n",
       "       'CANNABIS PLANT', 'POSS: HEROIN(WHITE)', 'POSS: SYNTHETIC DRUGS',\n",
       "       'MANU/DEL:CANNABIS OVER 10 GMS', 'FOUND SUSPECT NARCOTICS',\n",
       "       'ATTEMPT: STRONGARM-NO WEAPON', 'CALL OPERATION',\n",
       "       'PAROLE VIOLATION', 'GUN OFFENDER: DUTY TO REGISTER',\n",
       "       'CRIMINAL DEFACEMENT', 'OBSTRUCTING SERVICE',\n",
       "       'VEHICLE TITLE/REG OFFENSE', 'LIQUOR LICENSE VIOLATION',\n",
       "       'UNLAWFUL INTERFERE/VISITATION', 'CRIMINAL DRUG CONSPIRACY',\n",
       "       'TO STATE SUP PROP', 'MANU/DEL:CANNABIS 10GM OR LESS',\n",
       "       'MANU/DELIVER: HEROIN (WHITE)', 'OTHER CRIME AGAINST PERSON',\n",
       "       'SOLICIT NARCOTICS ON PUBLICWAY', 'OTHER WEAPONS VIOLATION',\n",
       "       'GUN OFFENDER: ANNUAL REGISTRATION', 'PROBATION VIOLATION',\n",
       "       'UNLAWFUL USE OTHER DANG WEAPON', 'SOLICIT ON PUBLIC WAY',\n",
       "       'ATTEMPT: ARMED-OTHER DANG WEAP', 'POSS: HEROIN(BRN/TAN)',\n",
       "       'SOLICIT FOR PROSTITUTE', 'OBSTRUCTING IDENTIFICATION',\n",
       "       'THEFT BY LESSEE,MOTOR VEH', 'MANU/DELIVER:PCP',\n",
       "       'MANU/DELIVER:SYNTHETIC DRUGS', 'COMPUTER FRAUD',\n",
       "       'POSS: HALLUCINOGENS', 'UNLAWFUL POSS AMMUNITION',\n",
       "       'UNLAWFUL USE OTHER FIREARM', 'SOLICIT OFF PUBLIC WAY',\n",
       "       'RESIST/OBSTRUCT/DISARM OFFICER', 'DELIVERY CONTAINER THEFT',\n",
       "       'POSSESSION: SYNTHETIC MARIJUANA', 'SELL/GIVE/DEL LIQUOR TO MINOR',\n",
       "       'TO AIRPORT', 'AGGRAVATED FINANCIAL IDENTITY THEFT',\n",
       "       'OTHER VIOLATION', 'DECEPTIVE COLLECTION PRACTICES',\n",
       "       'ILLEGAL CONSUMPTION BY MINOR',\n",
       "       'ATTEMPT - FINANCIAL IDENTITY THEFT', 'OBSTRUCTING JUSTICE',\n",
       "       'GAME/AMUSEMENT DEVICE', 'KIDNAPPING', 'INTIMIDATION',\n",
       "       'CHILD ABANDONMENT', 'VIOLATION OF STALKING NO CONTACT ORDER',\n",
       "       'UNLAWFUL RESTRAINT', 'UNLAWFUL POSS OTHER FIREARM', 'MOB ACTION',\n",
       "       'MANU/DELIVER:COCAINE', 'PEEPING TOM',\n",
       "       'GUN OFFENDER: DUTY TO REPORT CHANGE OF INFORMATION',\n",
       "       'UNLAWFUL USE/SALE AIR RIFLE', 'PUBLIC DEMONSTRATION',\n",
       "       'MANU/DELIVER: HALLUCINOGEN', 'AGG PRO.EMP:KNIFE/CUTTING INST',\n",
       "       'STOLEN PROP: BUY/RECEIVE/POS.', 'ANIMAL ABUSE/NEGLECT',\n",
       "       'AGG PO HANDS ETC SERIOUS INJ', 'ILLEGAL POSSESSION BY MINOR',\n",
       "       'VIOLENT OFFENDER: ANNUAL REGISTRATION',\n",
       "       'PATRONIZING A PROSTITUTE', 'THEFT/RECOVERY: TRUCK,BUS,MHOME',\n",
       "       'OBSCENITY', 'POSS FIREARM/AMMO:NO FOID CARD',\n",
       "       'ARMED: OTHER FIREARM', 'POSS: AMPHETAMINES', 'LICENSED PREMISE',\n",
       "       'DEFACE IDENT MARKS OF FIREARM', 'POSS: METHAMPHETAMINES',\n",
       "       'AGGRAVATED PO:KNIFE/CUT INSTR', 'MANU/DELIVER: HEROIN(BRN/TAN)',\n",
       "       'INVOLUNTARY SERVITUDE', 'CONTRIBUTE CRIM DELINQUENCY JUVENILE',\n",
       "       'FALSE POLICE REPORT', 'TO FIRE FIGHT.APP.EQUIP',\n",
       "       'POSSESSION OF BURGLARY TOOLS', 'PROHIBITED PLACES',\n",
       "       'ATT: TRUCK, BUS, MOTOR HOME', 'ESCAPE',\n",
       "       'SEX OFFENDER: PROHIBITED ZONE', 'ATTEMPT: ARMED-KNIFE/CUT INSTR',\n",
       "       'HAZARDOUS MATERIALS VIOLATION', 'AGGRAVATED OF A UNBORN CHILD',\n",
       "       'VIOLENT OFFENDER: DUTY TO REGISTER', 'ALTER/FORGE PRESCRIPTION',\n",
       "       'CONTRIBUTE DELINQUENCY OF A CHILD', 'POS: HYPODERMIC NEEDLE',\n",
       "       'TAMPER WITH MOTOR VEHICLE', 'INTERFERENCE JUDICIAL PROCESS',\n",
       "       'UNLAWFUL SALE HANDGUN', 'MANU/DELIVER:BARBITUATES',\n",
       "       'AGGRAVATED COMPUTER TAMPERING', 'UNLAWFUL USE OF A COMPUTER',\n",
       "       'INDECENT SOLICITATION/ADULT', 'FALSE FIRE ALARM',\n",
       "       'INTOXICATING COMPOUNDS', 'POSS: HEROIN(BLACK TAR)',\n",
       "       'VIOLATION GPS MONITORING DEVICE', 'INSTITUTIONAL VANDALISM',\n",
       "       'THEFT/RECOVERY: CYCLE, SCOOTER, BIKE W-VIN',\n",
       "       'VIO BAIL BOND: DOM VIOLENCE', 'FOID - REVOCATION', 'IN TAVERN',\n",
       "       'MANU/DELIVER: METHAMPHETAMINES', 'ABUSE/NEGLECT: CARE FACILITY',\n",
       "       'CRIMINAL TRANSMISSION OF HIV',\n",
       "       'VIOLENT OFFENDER: FAIL TO REGISTER NEW ADDRESS',\n",
       "       'ILLEGAL POSSESSION CASH CARD', 'FORCIBLE DETENTION',\n",
       "       'BOARD PLANE WITH WEAPON', 'PATRONIZE JUVENILE PROSTITUTE',\n",
       "       'OF UNBORN CHILD', 'MANU/DELIVER:AMPHETAMINES',\n",
       "       'POS: EXPLOSIVE/INCENDIARY DEV', 'CYCLE, SCOOTER, BIKE NO VIN',\n",
       "       'FROM COIN-OP MACHINE/DEVICE', 'CONT SUBS:FAIL TO MAINT RECORD',\n",
       "       'ATTEMPT POSSESSION NARCOTICS', 'PIMPING',\n",
       "       'OTHER PROSTITUTION OFFENSE', 'MANU/DELIVER:HEROIN(BLACK TAR)',\n",
       "       'ATTEMPT: ARMED-OTHER FIREARM', 'LIBRARY VANDALISM',\n",
       "       'UNLAWFUL USE OF RECORDED SOUND', 'AGG PRO.EMP: OTHER FIREARM',\n",
       "       'SELL/ADVERTISE FIREWORKS', 'MINOR MISREPRESENT AGE',\n",
       "       'AGGRAVATED PO: KNIFE/CUT INSTR', 'BY EXPLOSIVE',\n",
       "       'ATTEMPT POSSESSION CANNABIS', 'THEFT BY LESSEE,NON-VEH',\n",
       "       'CONCEALED CARRY LICENSE REVOCATION',\n",
       "       'UNIDENTIFIABLE RECORDING SOUND', 'OTHER ARSON/EXPLOSIVE INCIDENT',\n",
       "       'EAVESDROPPING', 'LOST PASSPORT', 'AIDING ARRESTEE ESCAPE',\n",
       "       'VIOLATION OF SMOKING BAN',\n",
       "       'NOTIFICATION OF STALKING - NO CONTACT ORDER', 'INSURANCE FRAUD',\n",
       "       'MANU/POSS. W/INTENT TO DELIVER: SYNTHETIC MARIJUANA',\n",
       "       'AGGRAVATED DOMESTIC BATTERY: OTHER FIREARM', 'PANDERING',\n",
       "       'INTERFERE W/ HIGHER EDUCATION', 'ATTEMPT AGG: OTHER DANG WEAPON',\n",
       "       'BIGAMY', 'SALE/DEL DRUG PARAPHERNALIA',\n",
       "       'ATTEMPT: CYCLE, SCOOTER, BIKE W-VIN', 'POSS: LOOK-ALIKE DRUGS',\n",
       "       'COMPELLING ORG MEMBERSHIP', 'SALE TOBACCO PRODUCTS TO MINOR',\n",
       "       'VIOLATION OF SUMMARY CLOSURE', 'EDUCATIONAL INTIMIDAITON',\n",
       "       'DEL CONT SUBS TO PERSON <18', 'DELIVER CANNABIS TO PERSON <18',\n",
       "       'NOTIFICATION OF CIVIL NO CONTACT ORDER',\n",
       "       'ARSONIST: ANNUAL REGISTRATION', 'POS: CHEMICAL/DRY-ICE DEVICE',\n",
       "       'LIBRARY THEFT', 'MONEY LAUNDERING', 'THEFT RETAIL',\n",
       "       'INTERFERE W/ EMERGENCY EQUIP', 'CONCEALING/AIDING A FUGITIVE',\n",
       "       'UNLAWFUL SALE/DELIVERY OF FIREARM AT SCHOOL', 'FOUND PASSPORT',\n",
       "       'FAIL REGISTER LIC:CONT SUBS', 'KEEP PLACE OF PROSTITUTION',\n",
       "       'POSS. KEYS OR DEV.TO COIN MACH', 'REFUSING TO AID AN OFFICER',\n",
       "       'OFFICIAL MISCONDUCT', 'ATTEMPT AGG: OTHER FIREARM',\n",
       "       'CONTRABAND IN PRISON', 'CAB OPERATION',\n",
       "       'ARSONIST: DUTY TO REGISTER',\n",
       "       'ARSONIST: FAIL TO REGISTER NEW ADDRESS',\n",
       "       'GUN OFFENDER NOTIFICATION-NO CONTACT',\n",
       "       'INTIMIDATION OF LAW ENFORCEMENT OFFICIAL', 'ANIMAL FIGHTING',\n",
       "       'ALTER COINS', 'THEFT/RECOVERY: CYCLE, SCOOTER, BIKE NO VIN',\n",
       "       'USE OF METAL PIERCING BULLETS', 'UNLAWFUL USE OF BODY ARMOR',\n",
       "       'COMPELLING CONFESSION', 'UNLAWFUL SALE OTHER FIREARM',\n",
       "       'MANU/DELIVER:LOOK-ALIKE DRUG', 'AGGRAVATED DOMESTIC BATTERY',\n",
       "       'FIREARM REGISTRATION VIOLATION', 'SALE/DEL HYPODERMIC NEEDLE',\n",
       "       'WIREROOM/SPORTS', 'ILLEGAL ILL LOTTERY',\n",
       "       'AGG RIT MUT: HANDS/FIST/FEET NO/MINOR INJURY',\n",
       "       'INVOLUNTARY MANSLAUGHTER', 'BOLITA OR BOLI PUL/RUNNER',\n",
       "       'BOOKMAKING/HORSES', 'LOTTERY/OTHER', 'WIREROOM/HORSES', 'ADULTRY',\n",
       "       'BOLITA OR BOLI PUL/OFFICE', 'BOLITA OR BOLI PUL/WRITER',\n",
       "       'EMPLOY MINOR', 'BOOKMAKING/SPORTS', 'VIOL CHARITABLE GAME ACT',\n",
       "       'LOOTING', 'ATTEMPT FINANCIAL IDENTITY THEFT',\n",
       "       'COMPOUNDING A CRIME', 'JUVENILE PIMPING',\n",
       "       'CALCULATED CANNABIS CONSPIRACY',\n",
       "       'AGG RIT MUT: HANDS/FIST/FEET SERIOUS INJURY', 'SPORTS TAMPERING',\n",
       "       'NATIONAL LOTTERY', 'MARRYING A BIGAMIST',\n",
       "       'REGISTER FED GAMBLING STAMP', '$300 AND UNDER',\n",
       "       'FAILURE TO KEEP HYPO RECORDS', 'FORNICATION', 'ARMED VIOLENCE',\n",
       "       'AGG RITUAL MUT:KNIFE/CUTTING I', 'LOTTERY/PARLAY CARDS',\n",
       "       'AGG RITUAL MUT:HANDGUN', 'KEEP PLACE OF JUV PROSTITUTION',\n",
       "       'AGG RITUAL MUT:OTH DANG WEAPON', 'REGISTER OF SALES BY DEALER',\n",
       "       'OVER $300', 'ATTEMPT: CYCLE, SCOOTER, BIKE NO VIN',\n",
       "       'DISCLOSE DV VICTIM LOCATION'], dtype=object)"
      ]
     },
     "execution_count": 29,
     "metadata": {},
     "output_type": "execute_result"
    }
   ],
   "source": [
    "crimes['Description'].unique()"
   ]
  },
  {
   "cell_type": "code",
   "execution_count": 30,
   "metadata": {},
   "outputs": [
    {
     "data": {
      "text/plain": [
       "Year  Description                                                \n",
       "2003  $500 AND UNDER                                                 36773\n",
       "      ABUSE/NEGLECT: CARE FACILITY                                      11\n",
       "      ADULTRY                                                            1\n",
       "      AGG CRIM SEX ABUSE FAM MEMBER                                    135\n",
       "      AGG CRIMINAL SEXUAL ABUSE                                        444\n",
       "      AGG PO HANDS ETC SERIOUS INJ                                      19\n",
       "      AGG PO HANDS NO/MIN INJURY                                       956\n",
       "      AGG PRO EMP HANDS SERIOUS INJ                                     18\n",
       "      AGG PRO.EMP: HANDGUN                                              42\n",
       "      AGG PRO.EMP: OTHER DANG WEAPON                                   187\n",
       "      AGG PRO.EMP: OTHER FIREARM                                        17\n",
       "      AGG PRO.EMP:KNIFE/CUTTING INST                                    41\n",
       "      AGG RIT MUT: HANDS/FIST/FEET NO/MINOR INJURY                       1\n",
       "      AGG RIT MUT: HANDS/FIST/FEET SERIOUS INJURY                        1\n",
       "      AGG SEX ASSLT OF CHILD FAM MBR                                   212\n",
       "      AGG: FINANCIAL ID THEFT                                          238\n",
       "      AGG: HANDS/FIST/FEET NO/MINOR INJURY                             410\n",
       "      AGG: HANDS/FIST/FEET SERIOUS INJURY                               39\n",
       "      AGGRAVATED                                                       954\n",
       "      AGGRAVATED DOMESTIC BATTERY                                      810\n",
       "      AGGRAVATED DOMESTIC BATTERY: HANDGUN                               6\n",
       "      AGGRAVATED DOMESTIC BATTERY: HANDS/FIST/FEET SERIOUS INJURY       65\n",
       "      AGGRAVATED DOMESTIC BATTERY: KNIFE/CUTTING INST                  314\n",
       "      AGGRAVATED DOMESTIC BATTERY: OTHER DANG WEAPON                   430\n",
       "      AGGRAVATED DOMESTIC BATTERY: OTHER FIREARM                        13\n",
       "      AGGRAVATED OF A CHILD                                             67\n",
       "      AGGRAVATED OF A SENIOR CITIZEN                                    81\n",
       "      AGGRAVATED OF A UNBORN CHILD                                       2\n",
       "      AGGRAVATED PO: HANDGUN                                            80\n",
       "      AGGRAVATED PO: KNIFE/CUT INSTR                                    16\n",
       "                                                                     ...  \n",
       "2018  TRUCK, BUS, MOTOR HOME                                           171\n",
       "      UNAUTHORIZED VIDEOTAPING                                          45\n",
       "      UNIDENTIFIABLE RECORDING SOUND                                     1\n",
       "      UNLAWFUL ENTRY                                                  4271\n",
       "      UNLAWFUL INTERFERE/VISITATION                                     39\n",
       "      UNLAWFUL POSS AMMUNITION                                         104\n",
       "      UNLAWFUL POSS OF HANDGUN                                        3673\n",
       "      UNLAWFUL POSS OTHER FIREARM                                      113\n",
       "      UNLAWFUL RESTRAINT                                                30\n",
       "      UNLAWFUL SALE HANDGUN                                              4\n",
       "      UNLAWFUL SALE OTHER FIREARM                                        5\n",
       "      UNLAWFUL SALE/DELIVERY OF FIREARM AT SCHOOL                        3\n",
       "      UNLAWFUL USE HANDGUN                                             602\n",
       "      UNLAWFUL USE OF A COMPUTER                                        20\n",
       "      UNLAWFUL USE OF BODY ARMOR                                         3\n",
       "      UNLAWFUL USE OF RECORDED SOUND                                     1\n",
       "      UNLAWFUL USE OTHER DANG WEAPON                                   124\n",
       "      UNLAWFUL USE OTHER FIREARM                                       108\n",
       "      UNLAWFUL USE/SALE AIR RIFLE                                       27\n",
       "      VEHICLE TITLE/REG OFFENSE                                        673\n",
       "      VEHICULAR HIJACKING                                              296\n",
       "      VIO BAIL BOND: DOM VIOLENCE                                       30\n",
       "      VIOLATE ORDER OF PROTECTION                                     1679\n",
       "      VIOLATION GPS MONITORING DEVICE                                   17\n",
       "      VIOLATION OF CIVIL NO CONTACT ORDER                               87\n",
       "      VIOLATION OF STALKING NO CONTACT ORDER                            25\n",
       "      VIOLATION OF SUMMARY CLOSURE                                       4\n",
       "      VIOLENT OFFENDER: ANNUAL REGISTRATION                             48\n",
       "      VIOLENT OFFENDER: DUTY TO REGISTER                                24\n",
       "      VIOLENT OFFENDER: FAIL TO REGISTER NEW ADDRESS                    15\n",
       "Length: 4899, dtype: int64"
      ]
     },
     "execution_count": 30,
     "metadata": {},
     "output_type": "execute_result"
    }
   ],
   "source": [
    "crimes.groupby(['Year', 'Description']).size()"
   ]
  },
  {
   "cell_type": "code",
   "execution_count": 31,
   "metadata": {},
   "outputs": [
    {
     "data": {
      "text/plain": [
       "False    96.478619\n",
       "True      3.521381\n",
       "Name: Description, dtype: float64"
      ]
     },
     "execution_count": 31,
     "metadata": {},
     "output_type": "execute_result"
    }
   ],
   "source": [
    "# crimes.str.contains('HANDGUN')\n",
    "crimes.Description.str.contains('HANDGUN').value_counts()/len(crimes)*100"
   ]
  },
  {
   "cell_type": "code",
   "execution_count": 32,
   "metadata": {},
   "outputs": [],
   "source": [
    "crimes_handguns = crimes.Description.str.contains('HANDGUN')"
   ]
  },
  {
   "cell_type": "code",
   "execution_count": 33,
   "metadata": {},
   "outputs": [
    {
     "data": {
      "text/plain": [
       "array([<matplotlib.axes._subplots.AxesSubplot object at 0x0000021076870A20>],\n",
       "      dtype=object)"
      ]
     },
     "execution_count": 33,
     "metadata": {},
     "output_type": "execute_result"
    },
    {
     "data": {
      "image/png": "[encoded data removed]",
      "text/plain": [
       "<Figure size 360x360 with 1 Axes>"
      ]
     },
     "metadata": {},
     "output_type": "display_data"
    }
   ],
   "source": [
    "crimes.Description.str.contains('HANDGUN').value_counts().plot.pie(subplots=True, figsize=(5,5))"
   ]
  },
  {
   "cell_type": "code",
   "execution_count": 34,
   "metadata": {},
   "outputs": [
    {
     "data": {
      "text/plain": [
       "Year\n",
       "2003    15391\n",
       "2004    13815\n",
       "2005    13317\n",
       "2006    12977\n",
       "2007    12536\n",
       "2008    13966\n",
       "2009    13759\n",
       "2010    12001\n",
       "2011    12004\n",
       "2012    12360\n",
       "2013     9959\n",
       "2014     9632\n",
       "2015    10566\n",
       "2016    13775\n",
       "2017    13970\n",
       "2018    12997\n",
       "dtype: int64"
      ]
     },
     "execution_count": 34,
     "metadata": {},
     "output_type": "execute_result"
    }
   ],
   "source": [
    "crimes[crimes['Description'].str.contains('Handgun', case=False)].groupby(['Year']).size()"
   ]
  },
  {
   "cell_type": "code",
   "execution_count": 35,
   "metadata": {},
   "outputs": [
    {
     "data": {
      "text/plain": [
       "<matplotlib.axes._subplots.AxesSubplot at 0x210768706d8>"
      ]
     },
     "execution_count": 35,
     "metadata": {},
     "output_type": "execute_result"
    },
    {
     "data": {
      "image/png": "[encoded data removed]",
      "text/plain": [
       "<Figure size 432x288 with 1 Axes>"
      ]
     },
     "metadata": {
      "needs_background": "light"
     },
     "output_type": "display_data"
    }
   ],
   "source": [
    "crimes[crimes['Description'].str.contains('Handgun', case=False)].groupby(['Year']).size().plot.bar()"
   ]
  },
  {
   "cell_type": "code",
   "execution_count": 36,
   "metadata": {},
   "outputs": [
    {
     "data": {
      "text/plain": [
       "<matplotlib.axes._subplots.AxesSubplot at 0x2105d84b7b8>"
      ]
     },
     "execution_count": 36,
     "metadata": {},
     "output_type": "execute_result"
    },
    {
     "data": {
      "image/png": "[encoded data removed]",
      "text/plain": [
       "<Figure size 432x288 with 1 Axes>"
      ]
     },
     "metadata": {
      "needs_background": "light"
     },
     "output_type": "display_data"
    }
   ],
   "source": [
    " crimes.groupby(['Year', crimes_handguns]).size().plot.bar()\n",
    "# crimes.groupby(['Year', crimes_handguns]).plot.bar()"
   ]
  },
  {
   "cell_type": "code",
   "execution_count": 37,
   "metadata": {},
   "outputs": [
    {
     "data": {
      "text/plain": [
       "THEFT                                1217604\n",
       "BATTERY                              1047867\n",
       "CRIMINAL DAMAGE                       660822\n",
       "NARCOTICS                             603094\n",
       "ASSAULT                               357065\n",
       "OTHER OFFENSE                         356328\n",
       "BURGLARY                              336836\n",
       "MOTOR VEHICLE THEFT                   261989\n",
       "DECEPTIVE PRACTICE                    228118\n",
       "ROBBERY                               219453\n",
       "CRIMINAL TRESPASS                     166508\n",
       "WEAPONS VIOLATION                      62566\n",
       "PROSTITUTION                           55712\n",
       "PUBLIC PEACE VIOLATION                 42657\n",
       "OFFENSE INVOLVING CHILDREN             38766\n",
       "CRIM SEXUAL ASSAULT                    22499\n",
       "SEX OFFENSE                            19852\n",
       "INTERFERENCE WITH PUBLIC OFFICER       14480\n",
       "GAMBLING                               12449\n",
       "LIQUOR LAW VIOLATION                   10969\n",
       "ARSON                                   9145\n",
       "HOMICIDE                                8173\n",
       "KIDNAPPING                              4908\n",
       "INTIMIDATION                            3321\n",
       "STALKING                                2965\n",
       "OBSCENITY                                523\n",
       "CONCEALED CARRY LICENSE VIOLATION        301\n",
       "NON-CRIMINAL                             159\n",
       "PUBLIC INDECENCY                         147\n",
       "OTHER NARCOTIC VIOLATION                 112\n",
       "HUMAN TRAFFICKING                         47\n",
       "NON - CRIMINAL                            38\n",
       "RITUALISM                                 12\n",
       "NON-CRIMINAL (SUBJECT SPECIFIED)           9\n",
       "Name: Primary Type, dtype: int64"
      ]
     },
     "execution_count": 37,
     "metadata": {},
     "output_type": "execute_result"
    }
   ],
   "source": [
    "# Groupby Year by the highest frequency of crimes, so Year by Theft; Year by Battery; then Year by Handgun\n",
    "\n",
    "# df_clean.groupby(['ADDRESS'])['VIOLATIONS'].sum().nlargest()\n",
    "\n",
    "# crimes(['Primary Type'] == 'HOMICIDE').value_counts()\n",
    "crimes['Primary Type'].value_counts()"
   ]
  },
  {
   "cell_type": "code",
   "execution_count": 38,
   "metadata": {},
   "outputs": [
    {
     "data": {
      "text/plain": [
       "Year\n",
       "2003    586\n",
       "2004    436\n",
       "2005    453\n",
       "2006    476\n",
       "2007    448\n",
       "2008    513\n",
       "2009    460\n",
       "2010    438\n",
       "2011    438\n",
       "2012    515\n",
       "2013    429\n",
       "2014    426\n",
       "2015    502\n",
       "2016    788\n",
       "2017    674\n",
       "2018    591\n",
       "dtype: int64"
      ]
     },
     "execution_count": 38,
     "metadata": {},
     "output_type": "execute_result"
    }
   ],
   "source": [
    "crimes[crimes['Primary Type'].str.contains('HOMICIDE', case=False)].groupby(['Year']).size()"
   ]
  },
  {
   "cell_type": "markdown",
   "metadata": {
    "slideshow": {
     "slide_type": "slide"
    }
   },
   "source": [
    "## Modeling\n",
    "\n",
    "### I will begin with Random Forest\n",
    "\n",
    "##### Hierarchical Clustering if necessary, DBSCAN\n"
   ]
  },
  {
   "cell_type": "markdown",
   "metadata": {},
   "source": [
    "### Make dummies for \n",
    "\n",
    "1. Primary Type as HOMICIDE =1, non_homicide = 0 separate feature **Homicide**\n",
    "2. Description as HANDGUN = 1, non_gun = 0 separate feature **Gun_Involvement**\n",
    "\n",
    "### Note: HOMICIDE and Gun_Involvement do not overlap, so this report will not clearly show fatalities due to guns\n",
    "### Note: I am adding a Crime_month feature to denote incident month"
   ]
  },
  {
   "cell_type": "code",
   "execution_count": 43,
   "metadata": {},
   "outputs": [
    {
     "data": {
      "text/html": [
       "<div>\n",
       "<style scoped>\n",
       "    .dataframe tbody tr th:only-of-type {\n",
       "        vertical-align: middle;\n",
       "    }\n",
       "\n",
       "    .dataframe tbody tr th {\n",
       "        vertical-align: top;\n",
       "    }\n",
       "\n",
       "    .dataframe thead th {\n",
       "        text-align: right;\n",
       "    }\n",
       "</style>\n",
       "<table border=\"1\" class=\"dataframe\">\n",
       "  <thead>\n",
       "    <tr style=\"text-align: right;\">\n",
       "      <th></th>\n",
       "      <th>Crime_dates</th>\n",
       "      <th>Crime_time</th>\n",
       "      <th>Primary Type</th>\n",
       "      <th>Description</th>\n",
       "      <th>Arrest</th>\n",
       "      <th>District</th>\n",
       "      <th>Ward</th>\n",
       "      <th>Community Area</th>\n",
       "      <th>Year</th>\n",
       "      <th>Latitude</th>\n",
       "      <th>Longitude</th>\n",
       "      <th>Location</th>\n",
       "      <th>Gun_Involved</th>\n",
       "      <th>Homicide</th>\n",
       "    </tr>\n",
       "  </thead>\n",
       "  <tbody>\n",
       "    <tr>\n",
       "      <th>64183</th>\n",
       "      <td>05/27/2016</td>\n",
       "      <td>17</td>\n",
       "      <td>ROBBERY</td>\n",
       "      <td>STRONGARM - NO WEAPON</td>\n",
       "      <td>False</td>\n",
       "      <td>1</td>\n",
       "      <td>25</td>\n",
       "      <td>28</td>\n",
       "      <td>2016</td>\n",
       "      <td>41.869752</td>\n",
       "      <td>-87.639747</td>\n",
       "      <td>(41.869752476, -87.639747289)</td>\n",
       "      <td>0</td>\n",
       "      <td>0</td>\n",
       "    </tr>\n",
       "  </tbody>\n",
       "</table>\n",
       "</div>"
      ],
      "text/plain": [
       "      Crime_dates  Crime_time Primary Type            Description  Arrest  \\\n",
       "64183  05/27/2016          17      ROBBERY  STRONGARM - NO WEAPON   False   \n",
       "\n",
       "       District  Ward  Community Area  Year   Latitude  Longitude  \\\n",
       "64183         1    25              28  2016  41.869752 -87.639747   \n",
       "\n",
       "                            Location  Gun_Involved  Homicide  \n",
       "64183  (41.869752476, -87.639747289)             0         0  "
      ]
     },
     "execution_count": 43,
     "metadata": {},
     "output_type": "execute_result"
    }
   ],
   "source": [
    "crimes.head(1)"
   ]
  },
  {
   "cell_type": "code",
   "execution_count": 44,
   "metadata": {},
   "outputs": [],
   "source": [
    "crimes['Gun_Involved'] = crimes['Description'].apply(lambda x: 1 if 'HANDGUN' in x  else 0)"
   ]
  },
  {
   "cell_type": "code",
   "execution_count": 45,
   "metadata": {},
   "outputs": [],
   "source": [
    "crimes['Homicide'] = crimes['Primary Type'].apply(lambda x: 1 if 'HOMICIDE' in x  else 0)"
   ]
  },
  {
   "cell_type": "code",
   "execution_count": 70,
   "metadata": {},
   "outputs": [],
   "source": [
    "from sklearn.ensemble import RandomForestClassifier\n",
    "from sklearn.datasets import make_classification\n",
    "from sklearn.model_selection import GridSearchCV"
   ]
  },
  {
   "cell_type": "code",
   "execution_count": 47,
   "metadata": {},
   "outputs": [
    {
     "data": {
      "text/plain": [
       "0    5562469\n",
       "1     203025\n",
       "Name: Gun_Involved, dtype: int64"
      ]
     },
     "execution_count": 47,
     "metadata": {},
     "output_type": "execute_result"
    }
   ],
   "source": [
    "crimes.Gun_Involved.value_counts()"
   ]
  },
  {
   "cell_type": "code",
   "execution_count": 48,
   "metadata": {},
   "outputs": [
    {
     "data": {
      "text/plain": [
       "0    5757321\n",
       "1       8173\n",
       "Name: Homicide, dtype: int64"
      ]
     },
     "execution_count": 48,
     "metadata": {},
     "output_type": "execute_result"
    }
   ],
   "source": [
    "crimes.Homicide.value_counts()"
   ]
  },
  {
   "cell_type": "code",
   "execution_count": 49,
   "metadata": {},
   "outputs": [
    {
     "data": {
      "text/plain": [
       "Index(['Crime_dates', 'Crime_time', 'Primary Type', 'Description', 'Arrest',\n",
       "       'District', 'Ward', 'Community Area', 'Year', 'Latitude', 'Longitude',\n",
       "       'Location', 'Gun_Involved', 'Homicide'],\n",
       "      dtype='object')"
      ]
     },
     "execution_count": 49,
     "metadata": {},
     "output_type": "execute_result"
    }
   ],
   "source": [
    "crimes.columns"
   ]
  },
  {
   "cell_type": "code",
   "execution_count": 57,
   "metadata": {},
   "outputs": [
    {
     "data": {
      "text/plain": [
       "64183    05/27/2016\n",
       "Name: Crime_dates, dtype: object"
      ]
     },
     "execution_count": 57,
     "metadata": {},
     "output_type": "execute_result"
    }
   ],
   "source": [
    "crimes.Crime_dates.head(1)"
   ]
  },
  {
   "cell_type": "code",
   "execution_count": 60,
   "metadata": {},
   "outputs": [],
   "source": [
    "crimes.Crime_dates = pd.to_datetime(crimes.Crime_dates)"
   ]
  },
  {
   "cell_type": "code",
   "execution_count": 61,
   "metadata": {},
   "outputs": [],
   "source": [
    "Crime_month = crimes['Crime_dates'].dt.month"
   ]
  },
  {
   "cell_type": "code",
   "execution_count": 62,
   "metadata": {},
   "outputs": [],
   "source": [
    "crimes['Crime_month'] = Crime_month"
   ]
  },
  {
   "cell_type": "code",
   "execution_count": 63,
   "metadata": {},
   "outputs": [
    {
     "data": {
      "text/html": [
       "<div>\n",
       "<style scoped>\n",
       "    .dataframe tbody tr th:only-of-type {\n",
       "        vertical-align: middle;\n",
       "    }\n",
       "\n",
       "    .dataframe tbody tr th {\n",
       "        vertical-align: top;\n",
       "    }\n",
       "\n",
       "    .dataframe thead th {\n",
       "        text-align: right;\n",
       "    }\n",
       "</style>\n",
       "<table border=\"1\" class=\"dataframe\">\n",
       "  <thead>\n",
       "    <tr style=\"text-align: right;\">\n",
       "      <th></th>\n",
       "      <th>Crime_dates</th>\n",
       "      <th>Crime_time</th>\n",
       "      <th>Primary Type</th>\n",
       "      <th>Description</th>\n",
       "      <th>Arrest</th>\n",
       "      <th>District</th>\n",
       "      <th>Ward</th>\n",
       "      <th>Community Area</th>\n",
       "      <th>Year</th>\n",
       "      <th>Latitude</th>\n",
       "      <th>Longitude</th>\n",
       "      <th>Location</th>\n",
       "      <th>Gun_Involved</th>\n",
       "      <th>Homicide</th>\n",
       "      <th>Crime_month</th>\n",
       "    </tr>\n",
       "  </thead>\n",
       "  <tbody>\n",
       "    <tr>\n",
       "      <th>64183</th>\n",
       "      <td>2016-05-27</td>\n",
       "      <td>17</td>\n",
       "      <td>ROBBERY</td>\n",
       "      <td>STRONGARM - NO WEAPON</td>\n",
       "      <td>False</td>\n",
       "      <td>1</td>\n",
       "      <td>25</td>\n",
       "      <td>28</td>\n",
       "      <td>2016</td>\n",
       "      <td>41.869752</td>\n",
       "      <td>-87.639747</td>\n",
       "      <td>(41.869752476, -87.639747289)</td>\n",
       "      <td>0</td>\n",
       "      <td>0</td>\n",
       "      <td>5</td>\n",
       "    </tr>\n",
       "  </tbody>\n",
       "</table>\n",
       "</div>"
      ],
      "text/plain": [
       "      Crime_dates  Crime_time Primary Type            Description  Arrest  \\\n",
       "64183  2016-05-27          17      ROBBERY  STRONGARM - NO WEAPON   False   \n",
       "\n",
       "       District  Ward  Community Area  Year   Latitude  Longitude  \\\n",
       "64183         1    25              28  2016  41.869752 -87.639747   \n",
       "\n",
       "                            Location  Gun_Involved  Homicide  Crime_month  \n",
       "64183  (41.869752476, -87.639747289)             0         0            5  "
      ]
     },
     "execution_count": 63,
     "metadata": {},
     "output_type": "execute_result"
    }
   ],
   "source": [
    "crimes.head(1)"
   ]
  },
  {
   "cell_type": "code",
   "execution_count": 75,
   "metadata": {},
   "outputs": [],
   "source": [
    "X = crimes[['Crime_month', 'Crime_time','Arrest', 'Latitude', 'Longitude',\n",
    "       'District', 'Ward', 'Community Area', 'Year']]\n",
    "#if I set my y to equal 'HOMICIDE' or 'Handgun', and make dummies, \n",
    "#can I predict based on lat/long if a crime will involve murder or handgun??"
   ]
  },
  {
   "cell_type": "code",
   "execution_count": 76,
   "metadata": {},
   "outputs": [],
   "source": [
    "# X_norm = normalize(X)"
   ]
  },
  {
   "cell_type": "code",
   "execution_count": 77,
   "metadata": {},
   "outputs": [],
   "source": [
    "y = crimes.Gun_Involved"
   ]
  },
  {
   "cell_type": "code",
   "execution_count": 78,
   "metadata": {},
   "outputs": [
    {
     "name": "stderr",
     "output_type": "stream",
     "text": [
      "C:\\Users\\ilang\\Anaconda3\\lib\\site-packages\\sklearn\\ensemble\\forest.py:246: FutureWarning: The default value of n_estimators will change from 10 in version 0.20 to 100 in 0.22.\n",
      "  \"10 in version 0.20 to 100 in 0.22.\", FutureWarning)\n"
     ]
    },
    {
     "data": {
      "text/plain": [
       "RandomForestClassifier(bootstrap=True, class_weight=None, criterion='gini',\n",
       "            max_depth=2, max_features='auto', max_leaf_nodes=None,\n",
       "            min_impurity_decrease=0.0, min_impurity_split=None,\n",
       "            min_samples_leaf=1, min_samples_split=2,\n",
       "            min_weight_fraction_leaf=0.0, n_estimators=10, n_jobs=None,\n",
       "            oob_score=False, random_state=0, verbose=0, warm_start=False)"
      ]
     },
     "execution_count": 78,
     "metadata": {},
     "output_type": "execute_result"
    }
   ],
   "source": [
    "clf = RandomForestClassifier(max_depth=2, random_state=0)\n",
    "clf.fit(X, y)\n",
    "\n",
    "\n"
   ]
  },
  {
   "cell_type": "code",
   "execution_count": 82,
   "metadata": {},
   "outputs": [
    {
     "data": {
      "text/plain": [
       "RandomForestClassifier(bootstrap=True, class_weight=None, criterion='gini',\n",
       "            max_depth=2, max_features='auto', max_leaf_nodes=None,\n",
       "            min_impurity_decrease=0.0, min_impurity_split=None,\n",
       "            min_samples_leaf=1, min_samples_split=2,\n",
       "            min_weight_fraction_leaf=0.0, n_estimators=10, n_jobs=None,\n",
       "            oob_score=False, random_state=0, verbose=0, warm_start=False)"
      ]
     },
     "execution_count": 82,
     "metadata": {},
     "output_type": "execute_result"
    }
   ],
   "source": [
    "X_train, X_test, y_train, y_test = train_test_split(X, y, random_state=42)\n",
    "\n",
    "clf.fit(X_train, y_train)\n"
   ]
  },
  {
   "cell_type": "code",
   "execution_count": 83,
   "metadata": {},
   "outputs": [],
   "source": [
    "y_pred = clf.predict(X_test)"
   ]
  },
  {
   "cell_type": "code",
   "execution_count": 84,
   "metadata": {},
   "outputs": [
    {
     "data": {
      "text/plain": [
       "array([0.00000000e+00, 1.25388079e-04, 0.00000000e+00, 1.77114256e-01,\n",
       "       3.04695296e-02, 1.14539803e-01, 4.65822653e-01, 1.81234271e-01,\n",
       "       3.06940999e-02])"
      ]
     },
     "execution_count": 84,
     "metadata": {},
     "output_type": "execute_result"
    }
   ],
   "source": [
    "clf.feature_importances_"
   ]
  },
  {
   "cell_type": "code",
   "execution_count": 86,
   "metadata": {},
   "outputs": [
    {
     "name": "stderr",
     "output_type": "stream",
     "text": [
      "C:\\Users\\ilang\\Anaconda3\\lib\\site-packages\\sklearn\\metrics\\classification.py:1145: UndefinedMetricWarning: Recall and F-score are ill-defined and being set to 0.0 in labels with no true samples.\n",
      "  'recall', 'true', average, warn_for)\n",
      "C:\\Users\\ilang\\Anaconda3\\lib\\site-packages\\sklearn\\metrics\\classification.py:1145: UndefinedMetricWarning: Recall and F-score are ill-defined and being set to 0.0 in labels with no true samples.\n",
      "  'recall', 'true', average, warn_for)\n"
     ]
    },
    {
     "name": "stdout",
     "output_type": "stream",
     "text": [
      "              precision    recall  f1-score   support\n",
      "\n",
      "           0       1.00      0.96      0.98   1441374\n",
      "           1       0.00      0.00      0.00         0\n",
      "\n",
      "   micro avg       0.96      0.96      0.96   1441374\n",
      "   macro avg       0.50      0.48      0.49   1441374\n",
      "weighted avg       1.00      0.96      0.98   1441374\n",
      "\n"
     ]
    },
    {
     "name": "stderr",
     "output_type": "stream",
     "text": [
      "C:\\Users\\ilang\\Anaconda3\\lib\\site-packages\\sklearn\\metrics\\classification.py:1145: UndefinedMetricWarning: Recall and F-score are ill-defined and being set to 0.0 in labels with no true samples.\n",
      "  'recall', 'true', average, warn_for)\n"
     ]
    }
   ],
   "source": [
    "print(metrics.classification_report(y_pred, y_test))  #NOte the overfitting due to the imbalance addressed"
   ]
  },
  {
   "cell_type": "code",
   "execution_count": 88,
   "metadata": {},
   "outputs": [],
   "source": [
    "#if i want to run randmo forest to predict which ward will have crime, remove location lat/lon/ district from my new X"
   ]
  },
  {
   "cell_type": "code",
   "execution_count": null,
   "metadata": {},
   "outputs": [],
   "source": []
  },
  {
   "cell_type": "code",
   "execution_count": 135,
   "metadata": {},
   "outputs": [],
   "source": [
    "# Reduce it to two components.\n",
    "#X_pca = PCA(2).fit_transform(X_norm)\n",
    "\n",
    "# Calculate predicted values.\n",
    "y_pred = KMeans(n_clusters=2, random_state=42).fit_predict(X_norm)\n"
   ]
  },
  {
   "cell_type": "code",
   "execution_count": 145,
   "metadata": {},
   "outputs": [
    {
     "data": {
      "image/png": "[encoded data removed]",
      "text/plain": [
       "<Figure size 432x288 with 1 Axes>"
      ]
     },
     "metadata": {
      "needs_background": "light"
     },
     "output_type": "display_data"
    }
   ],
   "source": [
    "# Plot the solution.\n",
    "plt.scatter(X['Latitude'], X['Longitude'], c=y_pred)\n",
    "plt.show()"
   ]
  },
  {
   "cell_type": "code",
   "execution_count": 138,
   "metadata": {},
   "outputs": [
    {
     "name": "stdout",
     "output_type": "stream",
     "text": [
      "Comparing k-means clusters against the data:\n",
      "Gun_Involved        0       1\n",
      "row_0                        \n",
      "0             2669861   76783\n",
      "1             2892608  126242\n"
     ]
    }
   ],
   "source": [
    "# Check the solution against the data.\n",
    "print('Comparing k-means clusters against the data:')\n",
    "print(pd.crosstab(y_pred, y))"
   ]
  },
  {
   "cell_type": "code",
   "execution_count": 152,
   "metadata": {},
   "outputs": [],
   "source": [
    "#Let's predict for Gun_Involvement but include Homicide in X\n",
    "\n",
    "X = crimes[['Crime_month', 'Crime_time','Arrest', 'Latitude', 'Longitude',\n",
    "       'District', 'Ward', 'Community Area', 'Year', 'Homicide']]\n",
    "\n"
   ]
  },
  {
   "cell_type": "code",
   "execution_count": 90,
   "metadata": {},
   "outputs": [
    {
     "data": {
      "text/plain": [
       "False    0.724901\n",
       "True     0.275099\n",
       "Name: Arrest, dtype: float64"
      ]
     },
     "execution_count": 90,
     "metadata": {},
     "output_type": "execute_result"
    }
   ],
   "source": [
    "s Chicago safer today in their respective neighborhood - simple exploration group by trend chart can answer that\n",
    "Learn where the majority of crimes (both violent and non-violent) occur, by neighborhood - simple exploration\n",
    "Has gun violence increased or decreased - trending groupby\n",
    "Where gun violence or homicides or 'violent crime' (murder and assault) or non-violent crime (theft and robbery) may occur  by Ward/District/Community Areacrimes.Arrest.value_counts()/len(crimes)"
   ]
  },
  {
   "cell_type": "markdown",
   "metadata": {},
   "source": [
    "### !  ok so i should make one of my questions - What factors such as location, date, even 'Arrest' would contribute to a crime being gun related?  \n",
    "Also, what factors such as location and crime result in an arrest?  Good news is that for the total dataset, 72% No Arrest, 28% Arrest.  So a slightly better imbalance than gun and homicide :wink:\n",
    "Clustering or even certain plot visualizations in tableau would answer  your above questions. Clustering would answer question 2 and 4 definitely. Also, question 1 can be abswered with a trend plot, thats correct, and question 3 can be answered with a comparison trend plit as well with a histogram or bar chart series."
   ]
  },
  {
   "cell_type": "code",
   "execution_count": null,
   "metadata": {},
   "outputs": [],
   "source": []
  }
 ],
 "metadata": {
  "kernelspec": {
   "display_name": "Python 3",
   "language": "python",
   "name": "python3"
  },
  "language_info": {
   "codemirror_mode": {
    "name": "ipython",
    "version": 3
   },
   "file_extension": ".py",
   "mimetype": "text/x-python",
   "name": "python",
   "nbconvert_exporter": "python",
   "pygments_lexer": "ipython3",
   "version": "3.7.1"
  }
 },
 "nbformat": 4,
 "nbformat_minor": 2
}
