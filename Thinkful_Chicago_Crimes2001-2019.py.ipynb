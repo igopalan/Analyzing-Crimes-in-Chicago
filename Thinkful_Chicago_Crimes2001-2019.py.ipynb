{
 "cells": [
  {
   "cell_type": "markdown",
   "metadata": {},
   "source": [
    "## Thinkful Capstone Project - Analysis of Reported Crimes in Chicago from 2001 to 2019\n",
    "\n",
    "#### Ilango Gopalan, December 2019\n",
    "\n"
   ]
  },
  {
   "cell_type": "markdown",
   "metadata": {},
   "source": [
    "## Describe Dataset and story I'm trying to tell"
   ]
  },
  {
   "cell_type": "code",
   "execution_count": 1,
   "metadata": {},
   "outputs": [],
   "source": [
    "import pandas as pd\n",
    "import numpy as np\n",
    "import matplotlib.pyplot as plt\n",
    "\n",
    "import seaborn as sns\n",
    "import scipy.stats as stats\n",
    "import datetime\n",
    "import time\n",
    "import pyarrow\n",
    "from sklearn import preprocessing\n",
    "from sklearn.cluster import KMeans\n",
    "from sklearn.preprocessing import normalize\n",
    "from sklearn.decomposition import PCA\n",
    "from sklearn.cluster import MiniBatchKMeans\n",
    "from sklearn.datasets.samples_generator import make_blobs\n",
    "from sklearn.model_selection import train_test_split\n",
    "from sklearn.cluster import MeanShift, estimate_bandwidth\n",
    "from sklearn.cluster import SpectralClustering\n",
    "from sklearn.cluster import AffinityPropagation\n",
    "from sklearn import metrics\n",
    "from itertools import cycle\n",
    "from sklearn.preprocessing import MinMaxScaler\n",
    "%matplotlib inline\n",
    "pd.set_option('display.max_columns', 50)"
   ]
  },
  {
   "cell_type": "markdown",
   "metadata": {},
   "source": [
    "## Exploring the Data"
   ]
  },
  {
   "cell_type": "code",
   "execution_count": 2,
   "metadata": {},
   "outputs": [
    {
     "name": "stderr",
     "output_type": "stream",
     "text": [
      "C:\\Users\\ilang\\Anaconda3\\lib\\site-packages\\IPython\\core\\interactiveshell.py:3020: DtypeWarning: Columns (21) have mixed types. Specify dtype option on import or set low_memory=False.\n",
      "  interactivity=interactivity, compiler=compiler, result=result)\n"
     ]
    }
   ],
   "source": [
    "crimes = pd.read_csv(('Crimes_-_2001_to_present.csv.xz'))"
   ]
  },
  {
   "cell_type": "code",
   "execution_count": 3,
   "metadata": {},
   "outputs": [
    {
     "data": {
      "text/plain": [
       "(7032560, 22)"
      ]
     },
     "execution_count": 3,
     "metadata": {},
     "output_type": "execute_result"
    }
   ],
   "source": [
    "crimes.shape #7 million rows of reported crimes from 2001 to 2019, includes 22 features."
   ]
  },
  {
   "cell_type": "markdown",
   "metadata": {},
   "source": [
    "### Features that will be converted OR dropped:\n",
    "\n",
    "1. ID / Case Number / Domestic / X Coordinate / Y Coordinate / Updated On / Location - **DROPPED**\n",
    "2. Date - from string to **datetime**\n",
    "3. District / Ward / Community Area - from float to **integer**\n",
    "4. IUCR - will remain as a string because there are multiple codes that include both letters and numbers"
   ]
  },
  {
   "cell_type": "code",
   "execution_count": 4,
   "metadata": {},
   "outputs": [
    {
     "name": "stdout",
     "output_type": "stream",
     "text": [
      "<class 'pandas.core.frame.DataFrame'>\n",
      "RangeIndex: 7032560 entries, 0 to 7032559\n",
      "Data columns (total 22 columns):\n",
      "ID                      int64\n",
      "Case Number             object\n",
      "Date                    object\n",
      "Block                   object\n",
      "IUCR                    object\n",
      "Primary Type            object\n",
      "Description             object\n",
      "Location Description    object\n",
      "Arrest                  bool\n",
      "Domestic                bool\n",
      "Beat                    int64\n",
      "District                float64\n",
      "Ward                    float64\n",
      "Community Area          float64\n",
      "FBI Code                object\n",
      "X Coordinate            float64\n",
      "Y Coordinate            float64\n",
      "Year                    int64\n",
      "Updated On              object\n",
      "Latitude                float64\n",
      "Longitude               float64\n",
      "Location                object\n",
      "dtypes: bool(2), float64(7), int64(3), object(10)\n",
      "memory usage: 1.1+ GB\n"
     ]
    }
   ],
   "source": [
    "crimes.info()"
   ]
  },
  {
   "cell_type": "markdown",
   "metadata": {},
   "source": [
    "## Feature Conversion"
   ]
  },
  {
   "cell_type": "markdown",
   "metadata": {},
   "source": [
    "### Date Modification\n",
    "\n",
    "Currently, 'Date' is a string.  I will split 'Date' into\n",
    "1. month, day, year\n",
    "2. Time \n",
    "3. AM/PM\n",
    "\n",
    "Then I will convert to the timestamps and create **3 columns**"
   ]
  },
  {
   "cell_type": "code",
   "execution_count": 5,
   "metadata": {},
   "outputs": [
    {
     "data": {
      "text/plain": [
       "'01/01/2001 11:00:00 AM'"
      ]
     },
     "execution_count": 5,
     "metadata": {},
     "output_type": "execute_result"
    }
   ],
   "source": [
    "crimes.Date[0] #Date column is a string"
   ]
  },
  {
   "cell_type": "code",
   "execution_count": 6,
   "metadata": {},
   "outputs": [
    {
     "name": "stdout",
     "output_type": "stream",
     "text": [
      "['01/01/2001', '11:00:00', 'AM']\n"
     ]
    }
   ],
   "source": [
    "print(crimes.Date[0].split()) #Separating the string into date, time, AM/PM"
   ]
  },
  {
   "cell_type": "code",
   "execution_count": 7,
   "metadata": {},
   "outputs": [],
   "source": [
    "#Creating 3 new columns for crime event as date, time, and AM/PM\n",
    "crimes['Crime_dates'] = crimes.Date.apply(lambda x: x.split()[0])\n",
    "crimes['Crime_time'] = crimes.Date.apply(lambda x: x.split()[1])\n",
    "crimes['Crime_AM_PM'] = crimes.Date.apply(lambda x: x.split()[2])"
   ]
  },
  {
   "cell_type": "code",
   "execution_count": 10,
   "metadata": {},
   "outputs": [],
   "source": [
    "#converting the date and time strings to datetime\n",
    "crimes.Crime_dates = pd.to_datetime(crimes.Crime_dates)\n",
    "crimes.Crime_time = pd.to_datetime(crimes.Crime_time)"
   ]
  },
  {
   "cell_type": "code",
   "execution_count": 11,
   "metadata": {},
   "outputs": [
    {
     "data": {
      "text/html": [
       "<div>\n",
       "<style scoped>\n",
       "    .dataframe tbody tr th:only-of-type {\n",
       "        vertical-align: middle;\n",
       "    }\n",
       "\n",
       "    .dataframe tbody tr th {\n",
       "        vertical-align: top;\n",
       "    }\n",
       "\n",
       "    .dataframe thead th {\n",
       "        text-align: right;\n",
       "    }\n",
       "</style>\n",
       "<table border=\"1\" class=\"dataframe\">\n",
       "  <thead>\n",
       "    <tr style=\"text-align: right;\">\n",
       "      <th></th>\n",
       "      <th>ID</th>\n",
       "      <th>Case Number</th>\n",
       "      <th>Date</th>\n",
       "      <th>Block</th>\n",
       "      <th>IUCR</th>\n",
       "      <th>Primary Type</th>\n",
       "      <th>Description</th>\n",
       "      <th>Location Description</th>\n",
       "      <th>Arrest</th>\n",
       "      <th>Domestic</th>\n",
       "      <th>Beat</th>\n",
       "      <th>District</th>\n",
       "      <th>Ward</th>\n",
       "      <th>Community Area</th>\n",
       "      <th>FBI Code</th>\n",
       "      <th>X Coordinate</th>\n",
       "      <th>Y Coordinate</th>\n",
       "      <th>Year</th>\n",
       "      <th>Updated On</th>\n",
       "      <th>Latitude</th>\n",
       "      <th>Longitude</th>\n",
       "      <th>Location</th>\n",
       "      <th>Crime_dates</th>\n",
       "      <th>Crime_time</th>\n",
       "      <th>Crime_AM_PM</th>\n",
       "    </tr>\n",
       "  </thead>\n",
       "  <tbody>\n",
       "    <tr>\n",
       "      <th>0</th>\n",
       "      <td>11034701</td>\n",
       "      <td>JA366925</td>\n",
       "      <td>01/01/2001 11:00:00 AM</td>\n",
       "      <td>016XX E 86TH PL</td>\n",
       "      <td>1153</td>\n",
       "      <td>DECEPTIVE PRACTICE</td>\n",
       "      <td>FINANCIAL IDENTITY THEFT OVER $ 300</td>\n",
       "      <td>RESIDENCE</td>\n",
       "      <td>False</td>\n",
       "      <td>False</td>\n",
       "      <td>412</td>\n",
       "      <td>4.0</td>\n",
       "      <td>8.0</td>\n",
       "      <td>45.0</td>\n",
       "      <td>11</td>\n",
       "      <td>NaN</td>\n",
       "      <td>NaN</td>\n",
       "      <td>2001</td>\n",
       "      <td>08/05/2017 03:50:08 PM</td>\n",
       "      <td>NaN</td>\n",
       "      <td>NaN</td>\n",
       "      <td>NaN</td>\n",
       "      <td>2001-01-01</td>\n",
       "      <td>2019-12-26 11:00:00</td>\n",
       "      <td>AM</td>\n",
       "    </tr>\n",
       "  </tbody>\n",
       "</table>\n",
       "</div>"
      ],
      "text/plain": [
       "         ID Case Number                    Date            Block  IUCR  \\\n",
       "0  11034701    JA366925  01/01/2001 11:00:00 AM  016XX E 86TH PL  1153   \n",
       "\n",
       "         Primary Type                          Description  \\\n",
       "0  DECEPTIVE PRACTICE  FINANCIAL IDENTITY THEFT OVER $ 300   \n",
       "\n",
       "  Location Description  Arrest  Domestic  Beat  District  Ward  \\\n",
       "0            RESIDENCE   False     False   412       4.0   8.0   \n",
       "\n",
       "   Community Area FBI Code  X Coordinate  Y Coordinate  Year  \\\n",
       "0            45.0       11           NaN           NaN  2001   \n",
       "\n",
       "               Updated On  Latitude  Longitude Location Crime_dates  \\\n",
       "0  08/05/2017 03:50:08 PM       NaN        NaN      NaN  2001-01-01   \n",
       "\n",
       "           Crime_time Crime_AM_PM  \n",
       "0 2019-12-26 11:00:00          AM  "
      ]
     },
     "execution_count": 11,
     "metadata": {},
     "output_type": "execute_result"
    }
   ],
   "source": [
    "crimes.head(1)"
   ]
  },
  {
   "cell_type": "markdown",
   "metadata": {},
   "source": [
    "# Why does crime_time still include date, and wrong date at that???"
   ]
  },
  {
   "cell_type": "markdown",
   "metadata": {},
   "source": [
    "## Data Cleaning\n",
    "\n",
    "Other features cannot be converted until the **NaN and Null** values have been removed.  As shown below, there are only 2 features with NaN values comprising over 1% of the entire dataset - **Ward** and **Community Area**.  Since Ward and Community Area NaN values are still less than 10% of the entire dataset, AND are **categorical values**,  I am choosing to drop those records."
   ]
  },
  {
   "cell_type": "code",
   "execution_count": 12,
   "metadata": {},
   "outputs": [
    {
     "data": {
      "text/plain": [
       "ID                      0.000000\n",
       "Case Number             0.000057\n",
       "Date                    0.000000\n",
       "Block                   0.000000\n",
       "IUCR                    0.000000\n",
       "Primary Type            0.000000\n",
       "Description             0.000000\n",
       "Location Description    0.085175\n",
       "Arrest                  0.000000\n",
       "Domestic                0.000000\n",
       "Beat                    0.000000\n",
       "District                0.000668\n",
       "Ward                    8.742620\n",
       "Community Area          8.723651\n",
       "FBI Code                0.000000\n",
       "X Coordinate            0.955925\n",
       "Y Coordinate            0.955925\n",
       "Year                    0.000000\n",
       "Updated On              0.000000\n",
       "Latitude                0.955925\n",
       "Longitude               0.955925\n",
       "Location                0.955925\n",
       "Crime_dates             0.000000\n",
       "Crime_time              0.000000\n",
       "Crime_AM_PM             0.000000\n",
       "dtype: float64"
      ]
     },
     "execution_count": 12,
     "metadata": {},
     "output_type": "execute_result"
    }
   ],
   "source": [
    "crimes.isnull().sum()*100/crimes.isnull().count()"
   ]
  },
  {
   "cell_type": "code",
   "execution_count": 13,
   "metadata": {},
   "outputs": [],
   "source": [
    "crimes = crimes[['Crime_dates', 'Crime_time', 'Crime_AM_PM', 'Block', 'IUCR', 'Primary Type', 'Description', 'Location Description',\n",
    "                'Arrest', 'Domestic', 'Beat', 'District', 'Ward', 'Community Area', 'Year', 'Latitude', 'Longitude']]"
   ]
  },
  {
   "cell_type": "code",
   "execution_count": 14,
   "metadata": {},
   "outputs": [],
   "source": [
    "crimes = crimes.dropna()"
   ]
  },
  {
   "cell_type": "code",
   "execution_count": 15,
   "metadata": {},
   "outputs": [
    {
     "data": {
      "text/plain": [
       "Crime_dates             0\n",
       "Crime_time              0\n",
       "Crime_AM_PM             0\n",
       "Block                   0\n",
       "IUCR                    0\n",
       "Primary Type            0\n",
       "Description             0\n",
       "Location Description    0\n",
       "Arrest                  0\n",
       "Domestic                0\n",
       "Beat                    0\n",
       "District                0\n",
       "Ward                    0\n",
       "Community Area          0\n",
       "Year                    0\n",
       "Latitude                0\n",
       "Longitude               0\n",
       "dtype: int64"
      ]
     },
     "execution_count": 15,
     "metadata": {},
     "output_type": "execute_result"
    }
   ],
   "source": [
    "crimes.isnull().sum()"
   ]
  },
  {
   "cell_type": "markdown",
   "metadata": {},
   "source": [
    "### District / Ward / Community Area - from float to integer"
   ]
  },
  {
   "cell_type": "code",
   "execution_count": 16,
   "metadata": {},
   "outputs": [],
   "source": [
    "crimes.District = crimes.District.astype(int)\n",
    "crimes.Ward = crimes.Ward.astype(int)\n",
    "crimes['Community Area'] = crimes['Community Area'].astype(int)"
   ]
  },
  {
   "cell_type": "code",
   "execution_count": 17,
   "metadata": {},
   "outputs": [
    {
     "name": "stdout",
     "output_type": "stream",
     "text": [
      "<class 'pandas.core.frame.DataFrame'>\n",
      "Int64Index: 6354634 entries, 60342 to 7032557\n",
      "Data columns (total 17 columns):\n",
      "Crime_dates             datetime64[ns]\n",
      "Crime_time              datetime64[ns]\n",
      "Crime_AM_PM             object\n",
      "Block                   object\n",
      "IUCR                    object\n",
      "Primary Type            object\n",
      "Description             object\n",
      "Location Description    object\n",
      "Arrest                  bool\n",
      "Domestic                bool\n",
      "Beat                    int64\n",
      "District                int32\n",
      "Ward                    int32\n",
      "Community Area          int32\n",
      "Year                    int64\n",
      "Latitude                float64\n",
      "Longitude               float64\n",
      "dtypes: bool(2), datetime64[ns](2), float64(2), int32(3), int64(2), object(6)\n",
      "memory usage: 715.1+ MB\n"
     ]
    }
   ],
   "source": [
    "crimes.info()"
   ]
  },
  {
   "cell_type": "markdown",
   "metadata": {},
   "source": [
    "## Data Exploration\n",
    "\n",
    "### I want to display bar charts to compare total arrests vs. no arrests\n",
    "\n",
    "### Groupby Year by the highest frequency of crimes, so Year by Theft; Year by Battery; then Year by Handgun\n",
    "\n",
    "### Histogram \n",
    "\n",
    "### Scatter Plot of Latitude and Longitude"
   ]
  },
  {
   "cell_type": "code",
   "execution_count": 18,
   "metadata": {},
   "outputs": [
    {
     "data": {
      "text/plain": [
       "<matplotlib.axes._subplots.AxesSubplot at 0x1f65d192f60>"
      ]
     },
     "execution_count": 18,
     "metadata": {},
     "output_type": "execute_result"
    },
    {
     "data": {
      "image/png": "[encoded data removed]",
      "text/plain": [
       "<Figure size 432x288 with 1 Axes>"
      ]
     },
     "metadata": {
      "needs_background": "light"
     },
     "output_type": "display_data"
    }
   ],
   "source": [
    "crimes.Arrest.value_counts().plot.bar()"
   ]
  },
  {
   "cell_type": "code",
   "execution_count": 19,
   "metadata": {},
   "outputs": [
    {
     "data": {
      "text/plain": [
       "THEFT                                1348107\n",
       "BATTERY                              1163057\n",
       "CRIMINAL DAMAGE                       725918\n",
       "NARCOTICS                             650511\n",
       "ASSAULT                               399598\n",
       "OTHER OFFENSE                         394470\n",
       "BURGLARY                              364881\n",
       "MOTOR VEHICLE THEFT                   288611\n",
       "DECEPTIVE PRACTICE                    251666\n",
       "ROBBERY                               240202\n",
       "CRIMINAL TRESPASS                     182531\n",
       "WEAPONS VIOLATION                      71486\n",
       "PROSTITUTION                           60574\n",
       "PUBLIC PEACE VIOLATION                 45852\n",
       "OFFENSE INVOLVING CHILDREN             43042\n",
       "CRIM SEXUAL ASSAULT                    25440\n",
       "SEX OFFENSE                            22749\n",
       "INTERFERENCE WITH PUBLIC OFFICER       16207\n",
       "GAMBLING                               13355\n",
       "LIQUOR LAW VIOLATION                   12200\n",
       "ARSON                                  10185\n",
       "HOMICIDE                                9630\n",
       "KIDNAPPING                              5656\n",
       "INTIMIDATION                            3725\n",
       "STALKING                                3310\n",
       "OBSCENITY                                597\n",
       "CONCEALED CARRY LICENSE VIOLATION        512\n",
       "NON-CRIMINAL                             162\n",
       "PUBLIC INDECENCY                         161\n",
       "OTHER NARCOTIC VIOLATION                 119\n",
       "HUMAN TRAFFICKING                         59\n",
       "NON - CRIMINAL                            38\n",
       "RITUALISM                                 14\n",
       "NON-CRIMINAL (SUBJECT SPECIFIED)           9\n",
       "Name: Primary Type, dtype: int64"
      ]
     },
     "execution_count": 19,
     "metadata": {},
     "output_type": "execute_result"
    }
   ],
   "source": [
    "crimes['Primary Type'].value_counts()"
   ]
  },
  {
   "cell_type": "markdown",
   "metadata": {},
   "source": [
    "## Modeling\n",
    "\n",
    "### What models should I use???"
   ]
  },
  {
   "cell_type": "code",
   "execution_count": null,
   "metadata": {},
   "outputs": [],
   "source": [
    "#"
   ]
  },
  {
   "cell_type": "code",
   "execution_count": null,
   "metadata": {},
   "outputs": [],
   "source": []
  }
 ],
 "metadata": {
  "kernelspec": {
   "display_name": "Python 3",
   "language": "python",
   "name": "python3"
  },
  "language_info": {
   "codemirror_mode": {
    "name": "ipython",
    "version": 3
   },
   "file_extension": ".py",
   "mimetype": "text/x-python",
   "name": "python",
   "nbconvert_exporter": "python",
   "pygments_lexer": "ipython3",
   "version": "3.7.1"
  }
 },
 "nbformat": 4,
 "nbformat_minor": 2
}
